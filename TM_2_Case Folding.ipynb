{
 "cells": [
  {
   "cell_type": "markdown",
   "metadata": {},
   "source": [
    "# TEXT MINING 2 - CASE FOLDING"
   ]
  },
  {
   "cell_type": "markdown",
   "metadata": {},
   "source": [
    "Build Date | March, 20th 2020\n",
    "--- | ---\n",
    "Male Tutor | Gustian Herlambang & Pahmi Alifya Bahri\n",
    "Female | Siti Rahmah & Imelda Putri Anggraini"
   ]
  },
  {
   "cell_type": "markdown",
   "metadata": {},
   "source": [
    "**Referensi** yang harus kalian baca lebih jauh :\n",
    "\n",
    "1. Modul Text Mining. \n",
    "\n",
    "2. Belajar Modul Regular Expression kunjungi link berikut :https://www.pythonindo.com/regular-expression/\n",
    "\n",
    "3. Natural Language Processing kunjungi link berikut : https://medium.com/towards-artificial-intelligence/text-mining-in-python-steps-and-examples-78b3f8fd913b"
   ]
  },
  {
   "cell_type": "markdown",
   "metadata": {},
   "source": [
    "## Case Folding Desc"
   ]
  },
  {
   "cell_type": "markdown",
   "metadata": {},
   "source": [
    "Apa itu `Case Folding` ? Nah, case folding ini adalah tahapan paling dasar yang digunakan pada proses `Natural Language Processing` yang mana prosesnya disebut dengan `Text Analytics` . Kali ini kita akan belajar 4 hal dalam case folding yaitu :\n",
    "1. Lowercase\n",
    "2. Uppercase\n",
    "3. Delete Puctuation atau menghapus tanda baca\n",
    "4. Delete Whitespace\n",
    "\n",
    "Mari kita mulai dengan ketikkan `print('Hello World')` pada cell dibawah ini :"
   ]
  },
  {
   "cell_type": "code",
   "execution_count": null,
   "metadata": {},
   "outputs": [],
   "source": []
  },
  {
   "cell_type": "markdown",
   "metadata": {},
   "source": [
    "## A. Lowercase\n",
    "\n",
    "Mengubah teks ke lowercase sangat diperlukan karena dalam suatu teks atau data, kemungkinan huruf kapital dan kecil bercampur akan sangat besar. Tentunya kalian sudah pernah baca jurnal bukan ? Dimana judulnya huruf kapital dan isinya sentence case atau diawali dengan kapital dan selanjutnya huruf kecil biasa.\n",
    "\n",
    "Penerapan proses lowercase ini akan sangat berdampak besar jika riset kita tentang pencarian / search dengan machine learning. Seperti search engine pada Tokopedia misalnya. Nah, pada lowercase ini maka yang diperhatikan hanya karakter `a` sampai `z` saja, selain itu dianggap delimiter atau dihilangkan.\n",
    "\n",
    "Kita akan mengubah satu kalimat ke bentuk huruf kecil dengan menyimpannya di variable `teks` . Salin kode dibawah ini dan jalankan dengan **Shift + Enter**\n",
    "\n",
    "Code : `teks = \"Fakultas yang ada di Universitas Pakuan ada 6 diantaranya adalah Fakultas Teknik, MIPA, FISIB, FKIP, FH, dan Pasca-Sarjana\"`"
   ]
  },
  {
   "cell_type": "code",
   "execution_count": null,
   "metadata": {},
   "outputs": [],
   "source": []
  },
  {
   "cell_type": "markdown",
   "metadata": {},
   "source": [
    "Nah, jika sudah dijalankan maka kita akan menggunakan library `Python` asli yaitu fungsi `lower()`. Maka, kita akan memproses variable `kalimat` dengan fungsi `lower()` lalu proses ini disimpan dalam variable `lower_case` . Salin kode dibawah ini lalu jalankan.\n",
    "\n",
    "Code :\n",
    "`lower_case = teks.lower()`"
   ]
  },
  {
   "cell_type": "code",
   "execution_count": null,
   "metadata": {},
   "outputs": [],
   "source": []
  },
  {
   "cell_type": "markdown",
   "metadata": {},
   "source": [
    "Jika sudah berhasil, kita akan lihat hasilnya. Apakah teks milik kita berhasil diubah ke lower case / huruf kecil ? Salin kode berikut untuk menampilkan hasil.\n",
    "\n",
    "Code : `print(lower_case)`"
   ]
  },
  {
   "cell_type": "code",
   "execution_count": null,
   "metadata": {},
   "outputs": [],
   "source": []
  },
  {
   "cell_type": "markdown",
   "metadata": {},
   "source": [
    "Hore! Anda berhasil mengubah teks ke lower case."
   ]
  },
  {
   "cell_type": "markdown",
   "metadata": {},
   "source": [
    "## B. Uppercase\n",
    "\n",
    "Dalam proses ini hampir sama dengan lowercase, hanya mengganti fungsi yaitu menjadi `upper()` . Ayo, kita deklarasikan variable baru bernama **upper_case** untuk menampung perintah upper. Salin kode berikut ini dan jalankan.\n",
    "\n",
    "Code : `upper_case = teks.upper()`"
   ]
  },
  {
   "cell_type": "code",
   "execution_count": null,
   "metadata": {},
   "outputs": [],
   "source": []
  },
  {
   "cell_type": "markdown",
   "metadata": {},
   "source": [
    "Jika sudah, tampilkan hasilnya dengan perintah `print`. Salin kode berikut dan jalankan.\n",
    "\n",
    "Code : `print(upper_case)`"
   ]
  },
  {
   "cell_type": "code",
   "execution_count": null,
   "metadata": {},
   "outputs": [],
   "source": []
  },
  {
   "cell_type": "markdown",
   "metadata": {},
   "source": [
    "## C. Menghapus Punctuation dan Angka\n",
    "\n",
    "Pada cell diatas kita sudah belajar bagaimana teks dapat diubah ubah bentuknya baik lower maupun upper, namun apakah kalian masih ingat bahwa pada kalimat itu mengandung angka dan tanda koma ? Dalam implementasi yang lebih jauh, tanda koma dan angka sebaiknya dihilangkan jika tidak diperlukan. Hal ini berimbas kepada kinerja algoritma atau classifier yang akan digunakan nantinya. "
   ]
  },
  {
   "cell_type": "markdown",
   "metadata": {},
   "source": [
    "### **1. Menghapus Angka**\n",
    "\n",
    "Kali ini kita memerlukan sebuah library bernama `Regular Expression` atau seringkali disingkat `RE` untuk membuang angka dalam teks kita. Banyak sekali fungsi `RE` yang bisa dipelajari mulai dari dasar hingga prosesnya yang lebih rumit. \n",
    "\n",
    "Saya telah menjelaskan sedikit tentang library ini di modul yang sudah saya lampirkan di `Google Classroom` kalian. Untuk saat ini kita akan melihat implementasinya langsung didalam notebook. \n",
    "\n",
    "Karena kalimat kita tadi sudah disimpan dalam variable **teks** kita akan melakukan penghapusan angka menggunakan perintah `re.sub` dan menyimpannya dalam variable **hapus_angka**. Salin kode berikut dan jalankan.\n",
    "\n",
    "Code : \n",
    "`import re` \n"
   ]
  },
  {
   "cell_type": "markdown",
   "metadata": {},
   "source": [
    "   `hapus_angka = re.sub(r\"\\d+\", \" \", teks)`\n",
    "   \n",
    "Catatan penting : *setelah mengimpor library selalu beri enter 1 kali baru kodingan selanjutnya* Lihat contoh dibawah. Baru jalankan kodingan diatas."
   ]
  },
  {
   "cell_type": "code",
   "execution_count": null,
   "metadata": {},
   "outputs": [],
   "source": [
    "#contoh kodingan \n",
    "\n",
    "import pandas as pd\n",
    "\n",
    "#baru kodingannya taruh disini"
   ]
  },
  {
   "cell_type": "markdown",
   "metadata": {},
   "source": [
    "Kamu paste kodingnya dibawah ini ya!"
   ]
  },
  {
   "cell_type": "code",
   "execution_count": null,
   "metadata": {},
   "outputs": [],
   "source": []
  },
  {
   "cell_type": "markdown",
   "metadata": {},
   "source": [
    "Jika sudah, tampilkan hasilnya dengan perintah `print`. Salin kode berikut dan jalankan.\n",
    "\n",
    "Code : `print(hapus_angka)`"
   ]
  },
  {
   "cell_type": "code",
   "execution_count": null,
   "metadata": {},
   "outputs": [],
   "source": []
  },
  {
   "cell_type": "markdown",
   "metadata": {},
   "source": [
    "Bagaimana ? sudah hilangkah angkanya ? Jika sudah maka kalian berhasil. Dalam memahami modul `RE` kalian perlu mengerti tentang kelas karakter dalam `RE` untuk melakukan proses yang lebih jauh. Perhatikan tabel berikut ini : \n",
    "\n",
    "Kelas Karakter | Makna\n",
    "--- | ---\n",
    "\\d | Digit atau angka dari 0 s/d 9\n",
    "\\D | Semua karakter selain digit 0 s/d 9\n",
    "\\w | Semua huruf, digit, dan karakter underscore (_)\n",
    "\\W | Semua karakter selain huruf, digit, dan underscore\n",
    "\\s | Spasi, tab, dan karakter newline (baris baru)\n",
    "\\S | Karakter selain spasi, tab, atau newline\n",
    "\n",
    "Nah kalian sudah tahu kan makna dari kelas karakter \\d yang kita gunakan tadi ? Yaitu menghapus angka dari 0 sampai dengan 9. Bagaimana jika `\\d` diganti dengan `\\D` ? Coba praktekkan dengan salin kode berikut dan jalankan.\n",
    "\n",
    "Code : \n",
    "`import re`\n",
    "> `hapus_angka1 = re.sub(r\"\\D+\", \" \", teks)`"
   ]
  },
  {
   "cell_type": "code",
   "execution_count": null,
   "metadata": {},
   "outputs": [],
   "source": []
  },
  {
   "cell_type": "markdown",
   "metadata": {},
   "source": [
    "Jika sudah, tampilkan hasilnya dengan perintah `print`. Salin kode berikut dan jalankan.\n",
    "\n",
    "Code : `print(hapus_angka1)`"
   ]
  },
  {
   "cell_type": "code",
   "execution_count": null,
   "metadata": {},
   "outputs": [],
   "source": []
  },
  {
   "cell_type": "markdown",
   "metadata": {},
   "source": [
    "Bagaimana sudah berhasil ? Selamat!"
   ]
  },
  {
   "cell_type": "markdown",
   "metadata": {},
   "source": [
    "### 2. Menghapus Karakter\n",
    "\n",
    "Menghapus karakter memerlukan banyak sekali fungsi mulai dari `fungsi translate(), maketrans() dan puctuation()`. Untuk penjelasan lengkapnya sudah saya cantumkan di modul Text Mining bab Case Folding mulai dari halaman 38. \n",
    "\n",
    "\n",
    "Oke, kali ini kita memerlukan library `String` untuk melakukan prosesnya. Kemudian melakukan proses penghapusan karakter dengan fungsi2 diatas yang dibungkus pada variable **hapus_karakter**. Salin kode berikut dan jalankan untuk mengetahui hasilnya.\n",
    "\n",
    "Code :\n",
    "`import string`\n",
    "> `hapus_karakter = teks.translate(str.maketrans(\"\",\"\",string.punctuation))`"
   ]
  },
  {
   "cell_type": "code",
   "execution_count": null,
   "metadata": {},
   "outputs": [],
   "source": []
  },
  {
   "cell_type": "markdown",
   "metadata": {},
   "source": [
    "Jika sudah, tampilkan hasilnya dengan perintah `print`. Salin kode berikut dan jalankan.\n",
    "\n",
    "Code : `print(hapus_karakter)`"
   ]
  },
  {
   "cell_type": "code",
   "execution_count": null,
   "metadata": {},
   "outputs": [],
   "source": []
  },
  {
   "cell_type": "markdown",
   "metadata": {},
   "source": [
    "## D. Menghapus Whitespace\n",
    "\n",
    "Whitespace adalah indentasi yang ada dalam suatu data teks. Biasa disebut dengan space kosong. Nah dalam Python, whitespace ini sangat erat kaitanya karena Python menggunakan indentasi (jarak). Nah jarak ini yang kita hapus menggunakan fungsi `strip()`. Contoh whitespace dalam Python menggunakan `\\t`. \n",
    "\n",
    "Kita mendeklarasikan variable baru bernama **teks1** yang berisi kalimat \\t Gustian Herlambang \\t . Salin kode dan jalankan.\n",
    "\n",
    "Code : `teks1 = \"\\t Gustian Herlambang \\t\"`\n",
    "> `hapus_ws = teks1.strip()`"
   ]
  },
  {
   "cell_type": "code",
   "execution_count": null,
   "metadata": {},
   "outputs": [],
   "source": []
  },
  {
   "cell_type": "markdown",
   "metadata": {},
   "source": [
    "Jika sudah, tampilkan hasilnya dengan perintah `print`. Salin kode berikut dan jalankan.\n",
    "\n",
    "Code : `print(hapus_ws)`"
   ]
  },
  {
   "cell_type": "code",
   "execution_count": null,
   "metadata": {},
   "outputs": [],
   "source": []
  },
  {
   "cell_type": "markdown",
   "metadata": {},
   "source": [
    "Bagaimana hasilnya ? Jika benar maka \\t akan hilang. "
   ]
  },
  {
   "cell_type": "markdown",
   "metadata": {},
   "source": [
    "SELAMAT ANDA SUDAH BELAJAR CASE FOLDING HARI INI!"
   ]
  }
 ],
 "metadata": {
  "kernelspec": {
   "display_name": "Python 3",
   "language": "python",
   "name": "python3"
  },
  "language_info": {
   "codemirror_mode": {
    "name": "ipython",
    "version": 3
   },
   "file_extension": ".py",
   "mimetype": "text/x-python",
   "name": "python",
   "nbconvert_exporter": "python",
   "pygments_lexer": "ipython3",
   "version": "3.7.6"
  }
 },
 "nbformat": 4,
 "nbformat_minor": 4
}
