{
 "cells": [
  {
   "cell_type": "markdown",
   "metadata": {},
   "source": [
    "# TEXT MINING 3 - TOKENIZATION"
   ]
  },
  {
   "cell_type": "markdown",
   "metadata": {},
   "source": [
    "Build Date | March, 27th 2020\n",
    "--- | ---\n",
    "Male Tutor | Gustian Herlambang & Pahmi Alifya Bahri\n",
    "Female | Siti Rahmah & Imelda Putri Anggraini"
   ]
  },
  {
   "cell_type": "markdown",
   "metadata": {},
   "source": [
    "Tokenizing adalah proses pemisahan teks menjadi potongan-potongan yang disebut sebagai token untuk kemudian di analisa. Kata, angka, simbol, tanda baca dan entitas penting lainnya dapat dianggap sebagai token. Didalam NLP, token diartikan sebagai “kata” meskipun tokenize juga dapat dilakukan pada paragraf maupun kalimat."
   ]
  },
  {
   "cell_type": "markdown",
   "metadata": {},
   "source": [
    "## **A. Tokenisasi Sederhana Menggunakan Python**\n",
    "\n",
    "Untuk prosesnya kita masih menggunakan kalimat yang ada pada Pertemuan 2 - Case Folding kemarin ya. Kita mendeklarasikan kalimat dengan menyimpannya di variable `teks` . Ketik kode dibawah ini dan jalankan dengan **Shift + Enter**"
   ]
  },
  {
   "cell_type": "markdown",
   "metadata": {},
   "source": [
    "Code : `teks = \"Fakultas yang ada di Universitas Pakuan ada 6 diantaranya adalah Fakultas Teknik, MIPA, FISIB, FKIP, FH, dan Pasca-Sarjana\"`"
   ]
  },
  {
   "cell_type": "code",
   "execution_count": 2,
   "metadata": {},
   "outputs": [],
   "source": [
    "teks = \"Fakultas yang ada di Universitas Pakuan ada 6 diantaranya adalah Fakultas Teknik, MIPA, FISIB, FKIP, FH, dan Pasca-Sarjana\""
   ]
  },
  {
   "cell_type": "markdown",
   "metadata": {},
   "source": [
    "Kita akan menggunakan fungsi asli dari `Python` yaitu fungsi `split()` yang mana fungsinya disimpan dalam variable **token**. Ketik kode berikut : "
   ]
  },
  {
   "cell_type": "markdown",
   "metadata": {},
   "source": [
    "`token = teks.split()`"
   ]
  },
  {
   "cell_type": "code",
   "execution_count": 3,
   "metadata": {},
   "outputs": [],
   "source": [
    "token = teks.split()"
   ]
  },
  {
   "cell_type": "markdown",
   "metadata": {},
   "source": [
    "Jika sudah, tampilkan hasilnya dengan perintah `print`. Ketik kode berikut dan jalankan.\n",
    "\n",
    "Code : `print(token)`"
   ]
  },
  {
   "cell_type": "code",
   "execution_count": 4,
   "metadata": {},
   "outputs": [
    {
     "name": "stdout",
     "output_type": "stream",
     "text": [
      "['Fakultas', 'yang', 'ada', 'di', 'Universitas', 'Pakuan', 'ada', '6', 'diantaranya', 'adalah', 'Fakultas', 'Teknik,', 'MIPA,', 'FISIB,', 'FKIP,', 'FH,', 'dan', 'Pasca-Sarjana']\n"
     ]
    }
   ],
   "source": [
    "print(token)"
   ]
  },
  {
   "cell_type": "markdown",
   "metadata": {},
   "source": [
    "**B. Tokenisasi Sederhana Menggunakan Library NLTK**\n",
    "\n",
    "Sekarang kita menggunakan library `NLTK` untuk melakukan tokenisasi. Pertama import terlebih dulu library-nya. Ketik kodenya : `import nltk`"
   ]
  },
  {
   "cell_type": "code",
   "execution_count": 5,
   "metadata": {},
   "outputs": [],
   "source": [
    "import nltk"
   ]
  },
  {
   "cell_type": "markdown",
   "metadata": {},
   "source": [
    "Menggunakan modul `word_tokenize()` dalam `library NLTK`. Pada cell yang aktif ketikkan kode berikut : `from nltk.tokenize import word_tokenize`"
   ]
  },
  {
   "cell_type": "code",
   "execution_count": 6,
   "metadata": {},
   "outputs": [],
   "source": [
    "from nltk.tokenize import word_tokenize"
   ]
  },
  {
   "cell_type": "markdown",
   "metadata": {},
   "source": [
    "Disini kita akan mendeklarasikan variable **teks** yang akan menampung kalimat kita. Ketikan kode dibawah ini pada cell yang aktif.\n",
    "> `teks = \"Fakultas yang ada di Universitas Pakuan ada 6 diantaranya adalah Fakultas Teknik, MIPA, FISIB, FKIP, FH, dan Pasca-Sarjana\"`"
   ]
  },
  {
   "cell_type": "code",
   "execution_count": 7,
   "metadata": {},
   "outputs": [],
   "source": [
    "teks = \"Fakultas yang ada di Universitas Pakuan ada 6 diantaranya adalah Fakultas Teknik, MIPA, FISIB, FKIP, FH, dan Pasca-Sarjana\""
   ]
  },
  {
   "cell_type": "markdown",
   "metadata": {},
   "source": [
    "Lalu kita akan mendeklarasikan variabel **token** untuk menjalankan fungsi `tokenize.word_tokenize` pada variable **kalimat**. Ketikkan kode berikut pada cell yang aktif.\n",
    "> `token = nltk.tokenize.word_tokenize(kalimat)`"
   ]
  },
  {
   "cell_type": "code",
   "execution_count": 9,
   "metadata": {},
   "outputs": [],
   "source": [
    "\n",
    "token = nltk.tokenize.word_tokenize(teks)"
   ]
  },
  {
   "cell_type": "markdown",
   "metadata": {},
   "source": [
    "Jika sudah, tampilkan hasilnya dengan perintah `print`. Ketik kode berikut dan jalankan.\n",
    "\n",
    "Code : `print(token)`"
   ]
  },
  {
   "cell_type": "code",
   "execution_count": 10,
   "metadata": {},
   "outputs": [
    {
     "name": "stdout",
     "output_type": "stream",
     "text": [
      "['Fakultas', 'yang', 'ada', 'di', 'Universitas', 'Pakuan', 'ada', '6', 'diantaranya', 'adalah', 'Fakultas', 'Teknik', ',', 'MIPA', ',', 'FISIB', ',', 'FKIP', ',', 'FH', ',', 'dan', 'Pasca-Sarjana']\n"
     ]
    }
   ],
   "source": [
    "print(token)"
   ]
  },
  {
   "cell_type": "markdown",
   "metadata": {},
   "source": [
    "Pada kode diatas proses `tokenisasi` masih sangat sederhana, bagaimana jika term fakultas ada 2 atau bahkan diulang ? Oleh karena itu kita membutuhkan fungsi `freqDist` untuk melihat jumlah kata yang muncul menggunakan library `NLTK`"
   ]
  },
  {
   "cell_type": "markdown",
   "metadata": {},
   "source": [
    "**C. Tokenisasi Dengan Memunculkan Kelas Token Menggunakan Library NLTK dan String**"
   ]
  },
  {
   "cell_type": "code",
   "execution_count": 13,
   "metadata": {},
   "outputs": [
    {
     "name": "stdout",
     "output_type": "stream",
     "text": [
      "[('fakultas', 2), ('ada', 2), ('yang', 1), ('di', 1), ('universitas', 1), ('pakuan', 1), ('6', 1), ('diantaranya', 1), ('adalah', 1), ('teknik', 1), ('mipa', 1), ('fisib', 1), ('fkip', 1), ('fh', 1), ('dan', 1), ('pascasarjana', 1)]\n"
     ]
    }
   ],
   "source": [
    "import string\n",
    "from nltk.probability import FreqDist\n",
    "proses_kata = kalimat.translate(str.maketrans('','', string.punctuation)).lower()\n",
    "kelas_token = nltk.tokenize.word_tokenize(proses_kata)\n",
    "muncul_token = nltk.FreqDist(kelas_token)\n",
    "print(muncul_token.most_common())"
   ]
  },
  {
   "cell_type": "markdown",
   "metadata": {},
   "source": [
    "**D. Memeuncullkan Kelas Token ke dalam Grafik menggunakan Library Matplotlib**"
   ]
  },
  {
   "cell_type": "code",
   "execution_count": 17,
   "metadata": {},
   "outputs": [
    {
     "data": {
      "image/png": "[encoded data removed]",
      "text/plain": [
       "<Figure size 432x288 with 1 Axes>"
      ]
     },
     "metadata": {
      "needs_background": "light"
     },
     "output_type": "display_data"
    },
    {
     "name": "stdout",
     "output_type": "stream",
     "text": [
      "<FreqDist with 16 samples and 18 outcomes>\n"
     ]
    }
   ],
   "source": [
    "import matplotlib.pyplot as plt\n",
    "muncul_token.plot(80, cumulative=True)\n",
    "print(muncul_token)"
   ]
  }
 ],
 "metadata": {
  "kernelspec": {
   "display_name": "Python 3",
   "language": "python",
   "name": "python3"
  },
  "language_info": {
   "codemirror_mode": {
    "name": "ipython",
    "version": 3
   },
   "file_extension": ".py",
   "mimetype": "text/x-python",
   "name": "python",
   "nbconvert_exporter": "python",
   "pygments_lexer": "ipython3",
   "version": "3.7.6"
  }
 },
 "nbformat": 4,
 "nbformat_minor": 4
}
