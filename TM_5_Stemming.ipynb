{
 "cells": [
  {
   "cell_type": "markdown",
   "metadata": {},
   "source": [
    "# **TEXT MINING 5 - STEMMING**\n",
    "\n",
    "Build Date | April, 16th 2020\n",
    "--- | ---\n",
    "Male Tutor | Gustian Herlambang & Pahmi Alifya Bahri\n",
    "Female | Siti Rahmah & Imelda Putri Anggraini"
   ]
  },
  {
   "cell_type": "markdown",
   "metadata": {},
   "source": [
    "## **Prelude**\n",
    "\n",
    "Stemming adalah menemukan **root** atau **kata dasar** kata dari suatu kata. Perhatikan tabel berikut "
   ]
  },
  {
   "cell_type": "markdown",
   "metadata": {},
   "source": [
    "Kata | Root Kata | Penjelasan\n",
    "--- | --- | --\n",
    "bekerja | kerja | ada imbuhan be-\n",
    "menabung | tabung | ada imbuhan me- tambah n"
   ]
  },
  {
   "cell_type": "markdown",
   "metadata": {},
   "source": [
    "Namun dalam sistem temu kembali atau **Information Retrieval** nantinya, proses stemming adalah bagaimana meng-ekstraksi kata kedalam root kata dari beberapa dokumen. Misalnya, \n",
    "> doc 1 = Saya bekerja di Universitas Pakuan\n",
    ">> doc 2 = saya mengerjakan tugas kuliah\n",
    ">>> doc 3 = tugas matematika saya sudah dikerjakan\n",
    "\n",
    "pada kasus diatas, kita menggunakan stemming untuk mencari keterkaitan dokumen satu dengan dokumen lain melalui term atau kata **kerja**. Ini ditujukan untuk mencocokan variasi kata didalam mesin pencarian dengan kata / term **kerja** itu sendiri. Ini adalah bagaimana mesin pencari menyajikan dokumen sesuai dengan perintah yang kalian ketikkan."
   ]
  },
  {
   "cell_type": "markdown",
   "metadata": {},
   "source": [
    "## **A. Stemming English dengan PorterStemmer**\n",
    "\n",
    "### **1. Stemming Per-Kata**"
   ]
  },
  {
   "cell_type": "markdown",
   "metadata": {},
   "source": [
    "Pertama kali, kita import terlabih dahulu library `nltk` dengan mengetikkan kode dibawah ini :\n",
    "> `from nltk.stem import PorterStemmer`\n"
   ]
  },
  {
   "cell_type": "code",
   "execution_count": 1,
   "metadata": {},
   "outputs": [],
   "source": [
    "from nltk.stem import PorterStemmer"
   ]
  },
  {
   "cell_type": "markdown",
   "metadata": {},
   "source": [
    "Import juga fungsi `word_tokenize` dari library `nltk`. Ketikkan kode berikut :\n",
    "> `from nltk.tokenize import word_tokenize`"
   ]
  },
  {
   "cell_type": "code",
   "execution_count": 2,
   "metadata": {},
   "outputs": [],
   "source": [
    "from nltk.tokenize import word_tokenize"
   ]
  },
  {
   "cell_type": "markdown",
   "metadata": {},
   "source": [
    "Deklarasikan variable **kalimat** untuk menampung kata yang akan kita stemming. Lalu masukkan list kata yang akan di stemming. Misalnya kita akan memasukkan kata *humming, standing, dan laying*.  Ketikkan kode berikut :\n",
    "> `kalimat = ['humming', 'standing', 'laying']`"
   ]
  },
  {
   "cell_type": "code",
   "execution_count": 3,
   "metadata": {},
   "outputs": [],
   "source": [
    "kalimat = ['humming', 'standing', 'laying']"
   ]
  },
  {
   "cell_type": "markdown",
   "metadata": {},
   "source": [
    "Deklarasikan variable **ps** untuk menampung fungsi `PorterStemmer()`. Ketikkan kode berikut :\n",
    "> ps = PorterStemmer()"
   ]
  },
  {
   "cell_type": "markdown",
   "metadata": {},
   "source": [
    "Kita menggunakan perulangan `for` untuk melakukkan proses stemming dan mencetaknya dengan perintah `print`. Ketikkan kode berikut :\n",
    "> `for i in kalimat:` \n",
    ">> `print(i, \" : \", ps.stem(i))` "
   ]
  },
  {
   "cell_type": "code",
   "execution_count": 4,
   "metadata": {},
   "outputs": [
    {
     "name": "stdout",
     "output_type": "stream",
     "text": [
      "humming  :  hum\n",
      "standing  :  stand\n",
      "laying  :  lay\n"
     ]
    }
   ],
   "source": [
    "ps = PorterStemmer()\n",
    "for i in kalimat:\n",
    "    print(i, \" : \", ps.stem(i))"
   ]
  },
  {
   "cell_type": "markdown",
   "metadata": {},
   "source": [
    "### **2. Stemming Kata dari Kalimat**"
   ]
  },
  {
   "cell_type": "markdown",
   "metadata": {},
   "source": [
    "Karena kita telah memanggil library yang dibutuhkan, selanjutnya kita tinggal deklarasikan variable **kalimat** untuk menampung kalimat yang akan kita stemming. Misal saya ingin menggunakan kalimat ini *You never know, I am missed*. Ketikkan kode berikut :\n",
    "> `kalimat = 'You never know, I am missed'`"
   ]
  },
  {
   "cell_type": "code",
   "execution_count": null,
   "metadata": {},
   "outputs": [],
   "source": []
  },
  {
   "cell_type": "markdown",
   "metadata": {},
   "source": [
    "Menggunakan fungsi `word_tokenize()` kita akan memecah kalimat tersebut agar di stem satu persatu. Ketik kode berikut :\n",
    "> `kalimat_tk = word_tokenize(kalimat)`"
   ]
  },
  {
   "cell_type": "code",
   "execution_count": null,
   "metadata": {},
   "outputs": [],
   "source": []
  },
  {
   "cell_type": "markdown",
   "metadata": {},
   "source": [
    "Gunakan `for` untuk mengambil setiap token pada kalimat, lalu cetak. Ketik kode dibawah :\n",
    "> `for i in kalimat_tk:`\n",
    ">> `print (i, \" : \", ps.stem(i))`"
   ]
  },
  {
   "cell_type": "code",
   "execution_count": null,
   "metadata": {},
   "outputs": [],
   "source": []
  },
  {
   "cell_type": "markdown",
   "metadata": {},
   "source": [
    "## **B. Stemming dengan Algoritma Nazief dan Adriani**"
   ]
  },
  {
   "cell_type": "markdown",
   "metadata": {},
   "source": [
    "Import fungsi `StemmerFactory()` dari library `Sastrawi`. Ketikkan kode berikut :\n",
    "> `from Sastrawi.Stemmer.StemmerFactory import StemmerFactory`"
   ]
  },
  {
   "cell_type": "code",
   "execution_count": null,
   "metadata": {},
   "outputs": [],
   "source": []
  },
  {
   "cell_type": "markdown",
   "metadata": {},
   "source": [
    "deklarasikan variable **factory** untuk fungsi stemmerfactory(). \n",
    "> `factory = StemmerFactory()`"
   ]
  },
  {
   "cell_type": "code",
   "execution_count": null,
   "metadata": {},
   "outputs": [],
   "source": []
  },
  {
   "cell_type": "markdown",
   "metadata": {},
   "source": [
    "deklarasikan variabel **stemmer** untuk memanggil fungsi `create_stemmer()` dari `StemmerFactory()`\n",
    "> `stemmer = factory.create_stemmer()`\n"
   ]
  },
  {
   "cell_type": "code",
   "execution_count": null,
   "metadata": {},
   "outputs": [],
   "source": []
  },
  {
   "cell_type": "markdown",
   "metadata": {},
   "source": [
    "deklarasikan variable **kalimat** untuk menampung teks yang akan kita stem. \n",
    "> `kalimat = 'Hari ini diketahui, angka kematian bertambah 10 orang, sehingga total ada 469 orang dengan kasus positif COVID-19 yang meninggal dunia. Jumlah Orang dalam Pemantauan (ODP) ada 165.549 orang, dan jumlah Pasien dalam Pengawasan (PDP) ada 11.165 orang. Jumlah spesimen yang diuji ada 36.421 spesimen. Jumlah kasus yang diperiksa spesimen ada 33.001 orang, sebanyak 5.136 dari jumlah kasus yang diperiksa tersebut terbukti positif COVID-19'`"
   ]
  },
  {
   "cell_type": "code",
   "execution_count": null,
   "metadata": {},
   "outputs": [],
   "source": []
  },
  {
   "cell_type": "markdown",
   "metadata": {},
   "source": [
    "deklarasikan variable **hasil** untuk melihat hasil stem dari kalimat diatas.\n",
    "> `hasil = stemmer.stem(kalimat)`\n",
    "\n"
   ]
  },
  {
   "cell_type": "code",
   "execution_count": null,
   "metadata": {},
   "outputs": [],
   "source": []
  },
  {
   "cell_type": "markdown",
   "metadata": {},
   "source": [
    "Cetak untuk melihat hasil stem, dengan perintah `print`.\n",
    "> `print(hasil)`"
   ]
  },
  {
   "cell_type": "code",
   "execution_count": null,
   "metadata": {},
   "outputs": [],
   "source": []
  }
 ],
 "metadata": {
  "kernelspec": {
   "display_name": "Python 3",
   "language": "python",
   "name": "python3"
  },
  "language_info": {
   "codemirror_mode": {
    "name": "ipython",
    "version": 3
   },
   "file_extension": ".py",
   "mimetype": "text/x-python",
   "name": "python",
   "nbconvert_exporter": "python",
   "pygments_lexer": "ipython3",
   "version": "3.7.6"
  }
 },
 "nbformat": 4,
 "nbformat_minor": 4
}
