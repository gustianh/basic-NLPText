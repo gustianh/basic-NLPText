{
 "cells": [
  {
   "cell_type": "markdown",
   "metadata": {},
   "source": [
    "# **TEXT MINING 6 - TERM FREQUENCY & INVERSE DOCUMENT FREQUENCY**\n",
    "\n",
    "Build Date | April, 18th 2020\n",
    "--- | ---\n",
    "Male Tutor | Gustian Herlambang & Pahmi Alifya Bahri\n",
    "Female | Siti Rahmah & Imelda Putri Anggraini"
   ]
  },
  {
   "cell_type": "markdown",
   "metadata": {},
   "source": [
    "## **A. PRELUDE**\n",
    "\n",
    "`Term Frequency — Inverse Document Frequency` atau TF — IDF adalah suatu metode algoritma yang berguna untuk menghitung bobot setiap kata yang umum digunakan. Metode ini juga terkenal efisien, mudah dan memiliki hasil yang akurat. Metode ini akan menghitung nilai Term Frequency (TF) dan Inverse Document Frequency (IDF) pada setiap **token (kata)** di setiap dokumen dalam korpus. Secara sederhana, metode TF-IDF digunakan untuk mengetahui berapa sering suatu kata muncul di dalam dokumen."
   ]
  },
  {
   "cell_type": "code",
   "execution_count": 1,
   "metadata": {
    "colab": {},
    "colab_type": "code",
    "id": "qG3uYT8tdF7t"
   },
   "outputs": [],
   "source": [
    "# import library\n",
    "import re\n",
    "\n",
    "import numpy as np\n",
    "from sklearn.feature_extraction.text import CountVectorizer\n",
    "from sklearn.feature_extraction.text import TfidfVectorizer\n",
    "from sklearn.metrics.pairwise import cosine_similarity\n",
    "from Sastrawi.Stemmer.StemmerFactory import StemmerFactory\n",
    "from Sastrawi.StopWordRemover.StopWordRemoverFactory import StopWordRemoverFactory"
   ]
  },
  {
   "cell_type": "code",
   "execution_count": 2,
   "metadata": {
    "colab": {},
    "colab_type": "code",
    "id": "OUkcNqN-dF8G"
   },
   "outputs": [
    {
     "name": "stdout",
     "output_type": "stream",
     "text": [
      "Pada masa modern ini masih banyak terdapat kenakalan remaja di tengah-tengah masyarakat khususnya masyarakat di daerah perkotaan. Kenakalan remaja dapat berupa perkelahian, balapan liar, perjudian, dan coret-coret di dinding tanpa ijin. Aksi corat-coret dinding biasanya dilakukan pada dinding-dinding bangunan perkantoran dan pada properti publik atau swasta. Hasil dari aksi corat-coret dinding dapat diketahui dari perubahan citra antara citra awal dengan citra setelah adanya sebuah gerakan. Penelitian ini mengembangkan sebuah sistem deteksi perubahan citra pada video untuk mendeteksi aksi corat-coret pada dinding melalui sebuah kamera Closed Circuit Television (CCTV) diamana dilakukan secara simulasi dengan menggunakan kamera webcam. Proses deteksi gerak dilakukan dengan metode Accumulative Differences Images (ADI) dan proses deteksi perubahan citra dilakukan dengan metode Illumination Invariant Change Detection ditambah dengan metode Cropping citra dimana hasilnya dilakukan perbandingan antara citra referensi atau citra sebelum ada gerakan dengan citra setelah ada gerakan. Pengujian sistem dilakukan pada beberapa kondisi waktu yang berbeda yaitu pada pagi, siang, sore, dan malam hari. Metode yang diajukan untuk sistem deteksi perubahan citra pada video memberikan hasil dengan tingkat akurasi 92.86%.\n"
     ]
    }
   ],
   "source": [
    "# membaca file\n",
    "documents = []\n",
    "for i in range(1, 11):\n",
    "  with open(\"source{}.txt\".format(i), \"r\") as file:\n",
    "    documents.append(file.read())\n",
    "\n",
    "print(documents[0])"
   ]
  },
  {
   "cell_type": "code",
   "execution_count": 3,
   "metadata": {
    "colab": {},
    "colab_type": "code",
    "id": "HXdyReuPfXIX"
   },
   "outputs": [
    {
     "name": "stdout",
     "output_type": "stream",
     "text": [
      "pada masa modern ini masih banyak terdapat kenakalan remaja di tengah-tengah masyarakat khususnya masyarakat di daerah perkotaan. kenakalan remaja dapat berupa perkelahian, balapan liar, perjudian, dan coret-coret di dinding tanpa ijin. aksi corat-coret dinding biasanya dilakukan pada dinding-dinding bangunan perkantoran dan pada properti publik atau swasta. hasil dari aksi corat-coret dinding dapat diketahui dari perubahan citra antara citra awal dengan citra setelah adanya sebuah gerakan. penelitian ini mengembangkan sebuah sistem deteksi perubahan citra pada video untuk mendeteksi aksi corat-coret pada dinding melalui sebuah kamera closed circuit television (cctv) diamana dilakukan secara simulasi dengan menggunakan kamera webcam. proses deteksi gerak dilakukan dengan metode accumulative differences images (adi) dan proses deteksi perubahan citra dilakukan dengan metode illumination invariant change detection ditambah dengan metode cropping citra dimana hasilnya dilakukan perbandingan antara citra referensi atau citra sebelum ada gerakan dengan citra setelah ada gerakan. pengujian sistem dilakukan pada beberapa kondisi waktu yang berbeda yaitu pada pagi, siang, sore, dan malam hari. metode yang diajukan untuk sistem deteksi perubahan citra pada video memberikan hasil dengan tingkat akurasi 92.86%.\n"
     ]
    }
   ],
   "source": [
    "# case folding\n",
    "for i, document in enumerate(documents):\n",
    "  documents[i] = document.lower()\n",
    "\n",
    "print(documents[0])"
   ]
  },
  {
   "cell_type": "code",
   "execution_count": 8,
   "metadata": {
    "colab": {},
    "colab_type": "code",
    "id": "EDbr-Q79dF8M"
   },
   "outputs": [
    {
     "name": "stdout",
     "output_type": "stream",
     "text": [
      "pada masa modern ini masih banyak terdapat kenakalan remaja di tengah-tengah masyarakat khususnya masyarakat di daerah perkotaan kenakalan remaja dapat berupa perkelahian balapan liar perjudian dan coret-coret di dinding tanpa ijin aksi corat-coret dinding biasanya dilakukan pada dinding-dinding bangunan perkantoran dan pada properti publik atau swasta hasil dari aksi corat-coret dinding dapat diketahui dari perubahan citra antara citra awal dengan citra setelah adanya sebuah gerakan penelitian ini mengembangkan sebuah sistem deteksi perubahan citra pada video untuk mendeteksi aksi corat-coret pada dinding melalui sebuah kamera closed circuit television cctv diamana dilakukan secara simulasi dengan menggunakan kamera webcam proses deteksi gerak dilakukan dengan metode accumulative differences images adi dan proses deteksi perubahan citra dilakukan dengan metode illumination invariant change detection ditambah dengan metode cropping citra dimana hasilnya dilakukan perbandingan antara citra referensi atau citra sebelum ada gerakan dengan citra setelah ada gerakan pengujian sistem dilakukan pada beberapa kondisi waktu yang berbeda yaitu pada pagi siang sore dan malam hari metode yang diajukan untuk sistem deteksi perubahan citra pada video memberikan hasil dengan tingkat akurasi \n"
     ]
    }
   ],
   "source": [
    "# menghilangkan tanda baca\n",
    "for i, document in enumerate(documents):\n",
    "\tdocuments[i] = re.sub(r'[.,(,);%]', \"\", document)\n",
    "\n",
    "print(documents[0])"
   ]
  },
  {
   "cell_type": "code",
   "execution_count": 9,
   "metadata": {
    "colab": {},
    "colab_type": "code",
    "id": "k0BtaZ29gPLz"
   },
   "outputs": [
    {
     "name": "stdout",
     "output_type": "stream",
     "text": [
      "pada masa modern ini masih banyak terdapat kenakalan remaja di tengah-tengah masyarakat khususnya masyarakat di daerah perkotaan kenakalan remaja dapat berupa perkelahian balapan liar perjudian dan coret-coret di dinding tanpa ijin aksi corat-coret dinding biasanya dilakukan pada dinding-dinding bangunan perkantoran dan pada properti publik atau swasta hasil dari aksi corat-coret dinding dapat diketahui dari perubahan citra antara citra awal dengan citra setelah adanya sebuah gerakan penelitian ini mengembangkan sebuah sistem deteksi perubahan citra pada video untuk mendeteksi aksi corat-coret pada dinding melalui sebuah kamera closed circuit television cctv diamana dilakukan secara simulasi dengan menggunakan kamera webcam proses deteksi gerak dilakukan dengan metode accumulative differences images adi dan proses deteksi perubahan citra dilakukan dengan metode illumination invariant change detection ditambah dengan metode cropping citra dimana hasilnya dilakukan perbandingan antara citra referensi atau citra sebelum ada gerakan dengan citra setelah ada gerakan pengujian sistem dilakukan pada beberapa kondisi waktu yang berbeda yaitu pada pagi siang sore dan malam hari metode yang diajukan untuk sistem deteksi perubahan citra pada video memberikan hasil dengan tingkat akurasi \n"
     ]
    }
   ],
   "source": [
    "# menghilangkan angka\n",
    "for i, document in enumerate(documents):\n",
    "\tdocuments[i] = re.sub(r'\\d', \"\", document)\n",
    "\n",
    "print(documents[0])"
   ]
  },
  {
   "cell_type": "code",
   "execution_count": 10,
   "metadata": {
    "colab": {},
    "colab_type": "code",
    "id": "6RshJzNgeXNA"
   },
   "outputs": [
    {
     "name": "stdout",
     "output_type": "stream",
     "text": [
      "masa modern masih banyak terdapat kenakalan remaja tengah-tengah masyarakat khususnya masyarakat daerah perkotaan kenakalan remaja berupa perkelahian balapan liar perjudian coret-coret dinding ijin aksi corat-coret dinding biasanya dilakukan dinding-dinding bangunan perkantoran properti publik swasta hasil aksi corat-coret dinding diketahui perubahan citra citra awal citra adanya sebuah gerakan penelitian mengembangkan sebuah sistem deteksi perubahan citra video mendeteksi aksi corat-coret dinding melalui sebuah kamera closed circuit television cctv diamana dilakukan simulasi menggunakan kamera webcam proses deteksi gerak dilakukan metode accumulative differences images adi proses deteksi perubahan citra dilakukan metode illumination invariant change detection ditambah metode cropping citra hasilnya dilakukan perbandingan citra referensi citra ada gerakan citra ada gerakan pengujian sistem dilakukan beberapa kondisi waktu berbeda pada pagi siang sore malam hari metode diajukan sistem deteksi perubahan citra pada video memberikan hasil tingkat akurasi \n"
     ]
    }
   ],
   "source": [
    "# menghapus stopwords\n",
    "factory = StopWordRemoverFactory()\n",
    "stopwords_remover = factory.create_stop_word_remover()\n",
    "\n",
    "for i, document in enumerate(documents):\n",
    "  documents[i] = stopwords_remover.remove(document)\n",
    "\n",
    "print(documents[0])"
   ]
  },
  {
   "cell_type": "code",
   "execution_count": 11,
   "metadata": {},
   "outputs": [
    {
     "name": "stdout",
     "output_type": "stream",
     "text": [
      "['yang', 'untuk', 'pada', 'ke', 'para', 'namun', 'menurut', 'antara', 'dia', 'dua', 'ia', 'seperti', 'jika', 'jika', 'sehingga', 'kembali', 'dan', 'tidak', 'ini', 'karena', 'kepada', 'oleh', 'saat', 'harus', 'sementara', 'setelah', 'belum', 'kami', 'sekitar', 'bagi', 'serta', 'di', 'dari', 'telah', 'sebagai', 'masih', 'hal', 'ketika', 'adalah', 'itu', 'dalam', 'bisa', 'bahwa', 'atau', 'hanya', 'kita', 'dengan', 'akan', 'juga', 'ada', 'mereka', 'sudah', 'saya', 'terhadap', 'secara', 'agar', 'lain', 'anda', 'begitu', 'mengapa', 'kenapa', 'yaitu', 'yakni', 'daripada', 'itulah', 'lagi', 'maka', 'tentang', 'demi', 'dimana', 'kemana', 'pula', 'sambil', 'sebelum', 'sesudah', 'supaya', 'guna', 'kah', 'pun', 'sampai', 'sedangkan', 'selagi', 'sementara', 'tetapi', 'apakah', 'kecuali', 'sebab', 'selain', 'seolah', 'seraya', 'seterusnya', 'tanpa', 'agak', 'boleh', 'dapat', 'dsb', 'dst', 'dll', 'dahulu', 'dulunya', 'anu', 'demikian', 'tapi', 'ingin', 'juga', 'nggak', 'mari', 'nanti', 'melainkan', 'oh', 'ok', 'seharusnya', 'sebetulnya', 'setiap', 'setidaknya', 'sesuatu', 'pasti', 'saja', 'toh', 'ya', 'walau', 'tolong', 'tentu', 'amat', 'apalagi', 'bagaimanapun']\n"
     ]
    }
   ],
   "source": [
    "# melihat stopwords\n",
    "print(factory.get_stop_words())"
   ]
  },
  {
   "cell_type": "code",
   "execution_count": 12,
   "metadata": {
    "colab": {},
    "colab_type": "code",
    "id": "aYCXrSd3eXGa"
   },
   "outputs": [],
   "source": [
    "# stemming\n",
    "factory = StemmerFactory()\n",
    "stemmer = factory.create_stemmer()\n",
    "\n",
    "for i, document in enumerate(documents):\n",
    "  documents[i] = stemmer.stem(document)"
   ]
  },
  {
   "cell_type": "code",
   "execution_count": 13,
   "metadata": {
    "colab": {},
    "colab_type": "code",
    "id": "lQaqAkc5dF8p"
   },
   "outputs": [
    {
     "name": "stderr",
     "output_type": "stream",
     "text": [
      "C:\\Users\\Gustian\\AppData\\Local\\Continuum\\anaconda3\\lib\\site-packages\\sklearn\\feature_extraction\\text.py:507: UserWarning: The parameter 'token_pattern' will not be used since 'tokenizer' is not None'\n",
      "  warnings.warn(\"The parameter 'token_pattern' will not be used\"\n"
     ]
    }
   ],
   "source": [
    "# fungsi untuk melakukan tokenisasi (memisahkan teks menjadi kata)\n",
    "tokenize = lambda text: [token.strip() for token in text.split()]\n",
    "\n",
    "# vektorisasi\n",
    "count_vectorizer = CountVectorizer(tokenizer=tokenize)\n",
    "count_vectorizer.fit(documents)\n",
    "\n",
    "# transformasi data dengan vektorizer (proses vektorisasi)\n",
    "data = count_vectorizer.transform(documents).toarray()\n",
    "vocab = count_vectorizer.get_feature_names()"
   ]
  },
  {
   "cell_type": "code",
   "execution_count": 14,
   "metadata": {
    "colab": {},
    "colab_type": "code",
    "id": "aORozhK1dF8w"
   },
   "outputs": [
    {
     "name": "stdout",
     "output_type": "stream",
     "text": [
      "Jumlah Term of Frequency\n",
      "[[1 0 3 ... 0 0 0]\n",
      " [0 0 0 ... 0 0 0]\n",
      " [0 0 0 ... 0 0 0]\n",
      " ...\n",
      " [0 0 0 ... 0 0 0]\n",
      " [0 0 0 ... 0 0 0]\n",
      " [0 0 0 ... 0 0 0]]\n"
     ]
    }
   ],
   "source": [
    "print(\"Jumlah Term of Frequency\")\n",
    "print(data)"
   ]
  },
  {
   "cell_type": "code",
   "execution_count": 15,
   "metadata": {
    "colab": {},
    "colab_type": "code",
    "id": "aiv-LseodF86"
   },
   "outputs": [
    {
     "name": "stdout",
     "output_type": "stream",
     "text": [
      "Vektor Features\n",
      "['accumulative', 'aceh', 'ada', 'adalah', 'adi', 'adu', 'ahp', 'ajar', 'aju', 'akan', 'akhir', 'akses', 'aksi', 'aktif', 'akurasi', 'alih', 'alternatif', 'ambil', 'amir', 'analisa', 'analytical', 'anggap', 'antara', 'apache', 'aparatur', 'asal', 'atas', 'awal', 'awas', 'awat', 'baca', 'badan', 'bagai', 'bagi', 'baik', 'bakat', 'balap', 'banding', 'bangun', 'bantu', 'banyak', 'baru', 'bas', 'basis', 'batuk', 'bayes', 'beberapa', 'beda', 'belimbing', 'benar', 'bentuk', 'beri', 'bersamaanmahasiswa', 'besar', 'biasa', 'bidang', 'bisa', 'bkd', 'blue', 'bobot', 'borda', 'boxing', 'buah', 'buka', 'bukan', 'bukti', 'burundi', 'butuh', 'calon', 'catat', 'cctv', 'change', 'chi', 'china', 'cipta', 'circuit', 'ciri', 'citra', 'closed', 'coba', 'cocok', 'corat-coret', 'coret', 'corona', 'course', 'covid-', 'credit', 'cropping', 'daerah', 'daftar', 'dan', 'dapat', 'dari', 'daring', 'dasar', 'data', 'database', 'datang', 'dekat', 'demam', 'demikian', 'detection', 'deteksi', 'di', 'diamana', 'differences', 'dinding', 'diri', 'dosen', 'dukung', 'dunia', 'e-', 'e-government', 'e-learning', 'efektif', 'efisien', 'ekspektasi', 'ekstraksi', 'elektronik', 'end', 'eropa', 'erti', 'file', 'fitur', 'front', 'fungsi', 'gabung', 'gam', 'gatewayhasil', 'gdss', 'gejala', 'gera', 'gerak', 'gihosha', 'government', 'green', 'gteori', 'guna', 'hadap', 'hal', 'hanoi', 'hanoian', 'harap', 'hari', 'harus', 'hasil', 'hierarchy', 'hingga', 'ho', 'hong', 'hotspot', 'ideal', 'identifikasi', 'ijin', 'ikut', 'illumination', 'images', 'industri', 'infeksi', 'informasi', 'inggris', 'ini', 'interaktif', 'internet', 'internetdalam', 'invariant', 'isi', 'itu', 'jabat', 'jadi', 'jalan', 'jaring', 'jauh', 'juara', 'judi', 'jumat', 'jumlah', 'kabar', 'kabupaten', 'kait', 'kamera', 'kampus', 'kandidat', 'kantor', 'kapan', 'karantina', 'kasus', 'kata', 'kelahi', 'kelas', 'kelola', 'kelompok', 'keluh', 'kembali', 'kembang', 'kemudian', 'kerja', 'ketidaksesuaian', 'khan', 'khusus', 'kirim', 'klasifikasi', 'kompetensi', 'kompetisi', 'komputer', 'komunikasi', 'kondisi', 'konfirmasi', 'konspirasi', 'kontak', 'kota', 'kredit', 'kriteria', 'kualitas', 'kuliah', 'kulit', 'kurang', 'kutip', 'laku', 'lalu', 'lama', 'lapang', 'lapor', 'latih', 'layan', 'lebih', 'liar', 'lihat', 'lingkung', 'lowong', 'lulus', 'mahasiswa', 'maju', 'maksimal', 'maksimum', 'malam', 'mampu', 'mana', 'manajemen', 'manis', 'mantan', 'manusia', 'maret', 'masa', 'masalah', 'masih', 'masing-masing', 'masuk', 'masyarakat', 'mata', 'matching', 'materi', 'maupun', 'media', 'mengganggap', 'metode', 'milik', 'minh', 'mitra', 'model', 'modern', 'muka', 'mysql', 'nai', 'nakal', 'napas', 'negara', 'nepotisme', 'nguyen', 'nhung', 'nilai', 'non', 'objektif', 'oleh', 'online', 'orang', 'pada', 'pagi', 'panen', 'pasca', 'pasien', 'pegawai', 'pemrosesan', 'pengaruh', 'penting', 'perankingan', 'perintah', 'perlu', 'php', 'pilih', 'pkl', 'pns', 'politeknik', 'positif', 'praktek', 'process', 'prodi', 'produksi', 'profil', 'profile', 'properti', 'proses', 'pt', 'publik', 'puncak', 'putus', 'rangking', 'red', 'referensi', 'rekomendasi', 'remaja', 'rendah', 'republik', 'rgb', 'rumah', 'rupa', 'rutin', 'sabtu', 'saing', 'saja', 'saji', 'sakit', 'salah', 'sangat', 'sangkut', 'sarana', 'satu', 'scene', 'sebut', 'sedia', 'segi', 'sejak', 'selatan', 'selenggara', 'selesai', 'sembuh', 'semua', 'sepenuh', 'sering', 'server', 'sesak', 'sesuai', 'siang', 'siap', 'simpul', 'simulasi', 'sipil', 'sistem', 'skala', 'sms', 'solusi', 'sore', 'sortir', 'sosial', 'struktural', 'studi', 'suatu', 'subkriteria', 'sulit', 'suspect', 'swasta', 'tahu', 'tambah', 'tanya', 'tara', 'tatap', 'tawar', 'teknik', 'teknologi', 'teks', 'telah', 'television', 'teliti', 'tempat', 'tengah', 'tentu', 'tepat', 'terap', 'tetap', 'tetapi', 'tiap', 'tidak', 'tinggi', 'tingkat', 'tinju', 'transfer', 'tuju', 'tulis', 'tunjang', 'tunjuk', 'tuntut', 'turun', 'ubah', 'uji', 'undang', 'ungkap', 'untuk', 'upa', 'upaya', 'usah', 'usaha', 'usul', 'utuh', 've', 'video', 'vietnam', 'virus', 'visual', 'wabah', 'wahana', 'waktu', 'warga', 'warna', 'wbc', 'web', 'webcam', 'welter', 'yakin', 'yang']\n"
     ]
    }
   ],
   "source": [
    "print(\"Vektor Features\")\n",
    "print(vocab)"
   ]
  },
  {
   "cell_type": "code",
   "execution_count": 16,
   "metadata": {
    "colab": {},
    "colab_type": "code",
    "id": "Ahdk2hV5dF9I"
   },
   "outputs": [
    {
     "name": "stdout",
     "output_type": "stream",
     "text": [
      "Jumlah TF-IDF\n",
      "[[0.05823289 0.         0.14850984 ... 0.         0.         0.        ]\n",
      " [0.         0.         0.         ... 0.         0.         0.        ]\n",
      " [0.         0.         0.         ... 0.         0.         0.        ]\n",
      " ...\n",
      " [0.         0.         0.         ... 0.         0.         0.        ]\n",
      " [0.         0.         0.         ... 0.         0.         0.        ]\n",
      " [0.         0.         0.         ... 0.         0.         0.        ]]\n"
     ]
    }
   ],
   "source": [
    "# hitung TF-IDF\n",
    "tfidf_vectorizer = TfidfVectorizer()\n",
    "tfidf_vectorizer.fit(documents)\n",
    "\n",
    "tfidf = tfidf_vectorizer.transform(documents).toarray()\n",
    "print(\"Jumlah TF-IDF\")\n",
    "print(tfidf)"
   ]
  },
  {
   "cell_type": "code",
   "execution_count": 17,
   "metadata": {
    "colab": {},
    "colab_type": "code",
    "id": "ulVyW7BwhiV-"
   },
   "outputs": [
    {
     "name": "stdout",
     "output_type": "stream",
     "text": [
      "Kesamaan doc1 dan doc2: 4.77%\n"
     ]
    }
   ],
   "source": [
    "# bandingkan doc4 dan doc8\n",
    "doc1_vect = tfidf[3].reshape(1, -1) # doc1\n",
    "doc2_vect = tfidf[7].reshape(1, -1) # doc2\n",
    "\n",
    "# hitung jarak\n",
    "distance = cosine_similarity(doc1_vect, doc2_vect)\n",
    "print(\"Kesamaan doc1 dan doc2: {:.2%}\".format(distance.item(0)))"
   ]
  },
  {
   "cell_type": "code",
   "execution_count": null,
   "metadata": {},
   "outputs": [],
   "source": [
    "from sklearn.metrics.pairwise import euclidean_distances\n",
    "\n",
    "doc1_vect = tfidf[1].reshape(1, -1) # doc1\n",
    "doc2_vect = tfidf[2].reshape(1, -1) # doc2\n",
    "\n",
    "# hitung jarak\n",
    "distance = euclidean_distances(doc1_vect, doc2_vect)\n",
    "print(\"Kesamaan doc1 dan doc2: {:.2%}\".format(distance.item(0)))"
   ]
  },
  {
   "cell_type": "code",
   "execution_count": null,
   "metadata": {},
   "outputs": [],
   "source": [
    "import matplotlib.pyplot as plt\n",
    "muncul_token.plot(80, cumulative=True)\n",
    "print(muncul_token)"
   ]
  }
 ],
 "metadata": {
  "colab": {
   "name": "TF-IDF using Sastrawi.ipynb",
   "provenance": []
  },
  "kernelspec": {
   "display_name": "Python 3",
   "language": "python",
   "name": "python3"
  },
  "language_info": {
   "codemirror_mode": {
    "name": "ipython",
    "version": 3
   },
   "file_extension": ".py",
   "mimetype": "text/x-python",
   "name": "python",
   "nbconvert_exporter": "python",
   "pygments_lexer": "ipython3",
   "version": "3.7.6"
  }
 },
 "nbformat": 4,
 "nbformat_minor": 1
}
